{
 "cells": [
  {
   "cell_type": "code",
   "execution_count": 82,
   "metadata": {},
   "outputs": [
    {
     "name": "stdin",
     "output_type": "stream",
     "text": [
      "Enter Numerator Value 12\n",
      "Enter Denominator Value 7\n"
     ]
    },
    {
     "name": "stdout",
     "output_type": "stream",
     "text": [
      "Value after divison of 12.0 by 7.0 is 1.71\n",
      "Job Successfully exited\n"
     ]
    }
   ],
   "source": [
    "import math\n",
    "def NumDiv():\n",
    "    n = float(input(\"Enter Numerator Value : \"))\n",
    "    d = float(input(\"Enter Denominator Value :\"))\n",
    "    try:\n",
    "        x=round(n/d,2)\n",
    "        print(\"Value after divison of {} by {} is {}\".format(n,d,x))\n",
    "    except ZeroDivisionError as zde:\n",
    "        print(zde)\n",
    "    except Exception as e:\n",
    "        print(e)\n",
    "    finally:\n",
    "        print(\"Job Successfully exited\")\n",
    "\n",
    "NumDiv()"
   ]
  },
  {
   "cell_type": "code",
   "execution_count": 55,
   "metadata": {},
   "outputs": [
    {
     "name": "stdout",
     "output_type": "stream",
     "text": [
      "Americans play Baseball\n",
      "Americans play Cricket\n",
      "Americans watch Baseball\n",
      "Americans watch Cricket\n",
      "Indians play Baseball\n",
      "Indians play Cricket\n",
      "Indians watch Baseball\n",
      "Indians watch Cricket\n"
     ]
    }
   ],
   "source": [
    "# 2. Implement a Python program to generate all sentences where subject is in [\"Americans\",\n",
    "# \"Indians\"] and verb is in [\"Play\", \"watch\"] and the object is in [\"Baseball\",\"cricket\"].\n",
    "# Hint: Subject,Verb and Object should be declared in the program as shown below.\n",
    "# subjects=[\"Americans \",\"Indians\"]\n",
    "# verbs=[\"play\",\"watch\"]\n",
    "# objects=[\"Baseball\",\"Cricket\"]\n",
    "# Output should come as below:\n",
    "# Americans play Baseball.\n",
    "# Americans play Cricket.\n",
    "# Americans watch Baseball.\n",
    "# Americans watch Cricket.\n",
    "# Indians play Baseball.\n",
    "# Indians play Cricket.\n",
    "# Indians watch Baseball.\n",
    "# Indians watch Cricket.\n",
    "\n",
    "subjects=([\"Americans\",\"Indians\"])\n",
    "verbs=([\"play\",\"watch\"])\n",
    "objects=([\"Baseball\",\"Cricket\"])\n",
    "\n",
    "for x in subjects:\n",
    "    for y in verbs:\n",
    "        for z in objects:\n",
    "            print(x, y, z)\n"
   ]
  },
  {
   "cell_type": "code",
   "execution_count": 81,
   "metadata": {},
   "outputs": [
    {
     "name": "stdin",
     "output_type": "stream",
     "text": [
      "Enter Power Value for Progression 5\n"
     ]
    },
    {
     "name": "stdout",
     "output_type": "stream",
     "text": [
      "[[    1     1     1     1     1]\n",
      " [    1     2     4     8    16]\n",
      " [    1     3     9    27    81]\n",
      " [    1     5    25   125   625]\n",
      " [    1     7    49   343  2401]\n",
      " [    1    11   121  1331 14641]]\n"
     ]
    }
   ],
   "source": [
    "# Task 2:\n",
    "# 1. Write a function so that the columns of the output matrix are powers of the input vector.\n",
    "# The order of the powers is determined by the increasing boolean argument. Specifically, when\n",
    "# increasing is False, the i-th output column is the input vector raised element-wise to the power\n",
    "# of N - i - 1.\n",
    "# HINT: Such a matrix with a geometric progression in each row is named for Alexandre-Theophile Vandermonde.\n",
    "\n",
    "# # help(np.column_stack)\n",
    "# # help(np.vander)\n",
    "# # def geoprog():\n",
    "# # x = np.array((1, 2, 3, 5, 7, 11))\n",
    "# # N = int(input(\"Enter Power Value for Progression\"))\n",
    "# # print(np.column_stack(pow(x,i) for i in range(N)))\n",
    "# # print(np.vander(x, N, increasing=True))\n",
    "\n",
    "import numpy as np\n",
    "def vectorprog():\n",
    "    x = np.array((1, 2, 3, 5, 7, 11))\n",
    "    n = int(input(\"Enter Power Value for Progression : \"))\n",
    "    print(np.vander(x, n, increasing=True))\n",
    "\n",
    "vectorprog()\n",
    "\n"
   ]
  },
  {
   "cell_type": "code",
   "execution_count": null,
   "metadata": {},
   "outputs": [],
   "source": []
  },
  {
   "cell_type": "code",
   "execution_count": null,
   "metadata": {},
   "outputs": [],
   "source": []
  }
 ],
 "metadata": {
  "kernelspec": {
   "display_name": "Python 3",
   "language": "python",
   "name": "python3"
  },
  "language_info": {
   "codemirror_mode": {
    "name": "ipython",
    "version": 3
   },
   "file_extension": ".py",
   "mimetype": "text/x-python",
   "name": "python",
   "nbconvert_exporter": "python",
   "pygments_lexer": "ipython3",
   "version": "3.7.1"
  }
 },
 "nbformat": 4,
 "nbformat_minor": 2
}
