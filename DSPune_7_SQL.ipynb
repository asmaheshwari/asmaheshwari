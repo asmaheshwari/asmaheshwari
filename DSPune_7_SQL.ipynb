{
 "cells": [
  {
   "cell_type": "code",
   "execution_count": null,
   "metadata": {},
   "outputs": [],
   "source": [
    "# Task 1: \n",
    " \n",
    "# Read the following data set: \n",
    "# https://archive.ics.uci.edu/ml/machine-learning-databases/adult/ \n",
    "# Rename the columns as per the description from this file: \n",
    "# https://archive.ics.uci.edu/ml/machine-learning-databases/adult/adult.names \n",
    "# Task: \n",
    "# Create a sql db from adult dataset and name it sqladb \n",
    "# 1. Select 10 records from the adult sqladb \n",
    "# 2. Show me the average hours per week of all men who are working in private sector \n",
    "# 3. Show me the frequency table for education, occupation and relationship, separately \n",
    "# 4. Are there any people who are married, working in private sector and having a masters                degree \n",
    "# 5. What is the average, minimum and maximum age group for people working in different               sectors \n",
    "# 6. Calculate age distribution by country \n",
    "# 7. Compute a new column as 'Net-Capital-Gain' from the two columns 'capital-gain' and             'capital-loss' "
   ]
  },
  {
   "cell_type": "code",
   "execution_count": null,
   "metadata": {},
   "outputs": [],
   "source": [
    "import numpy as np\n",
    "import pandas as pd\n",
    "from pandas import DataFrame\n",
    "import sqlite3 as db\n",
    "from pandasql import sqldf"
   ]
  },
  {
   "cell_type": "code",
   "execution_count": null,
   "metadata": {},
   "outputs": [],
   "source": [
    "# Read the following data set: \n",
    "# https://archive.ics.uci.edu/ml/machine-learning-databases/adult/\n",
    "sqladb = pd.read_csv('https://archive.ics.uci.edu/ml/machine-learning-databases/adult/adult.data')\n"
   ]
  },
  {
   "cell_type": "code",
   "execution_count": null,
   "metadata": {},
   "outputs": [],
   "source": [
    "# adult/adult.names\n",
    "# age: continuous.\n",
    "# workclass: Private, Self-emp-not-inc, Self-emp-inc, Federal-gov, Local-gov, State-gov, Without-pay, Never-worked.\n",
    "# fnlwgt: continuous.\n",
    "# education: Bachelors, Some-college, 11th, HS-grad, Prof-school, Assoc-acdm, Assoc-voc, 9th, 7th-8th, 12th, Masters, 1st-4th, 10th, Doctorate, 5th-6th, Preschool.\n",
    "# education-num: continuous.\n",
    "# marital-status: Married-civ-spouse, Divorced, Never-married, Separated, Widowed, Married-spouse-absent, Married-AF-spouse.\n",
    "# occupation: Tech-support, Craft-repair, Other-service, Sales, Exec-managerial, Prof-specialty, Handlers-cleaners, Machine-op-inspct, Adm-clerical, Farming-fishing, Transport-moving, Priv-house-serv, Protective-serv, Armed-Forces.\n",
    "# relationship: Wife, Own-child, Husband, Not-in-family, Other-relative, Unmarried.\n",
    "# race: White, Asian-Pac-Islander, Amer-Indian-Eskimo, Other, Black.\n",
    "# sex: Female, Male.\n",
    "# capital-gain: continuous.\n",
    "# capital-loss: continuous.\n",
    "# hours-per-week: continuous.\n",
    "# native-country: United-States, Cambodia, England, Puerto-Rico, Canada, Germany, Outlying-US(Guam-USVI-etc), India, Japan, Greece, South, China, Cuba, Iran, Honduras, Philippines, Italy, Poland, Jamaica, Vietnam, Mexico, Portugal, Ireland, France, Dominican-Republic, Laos, Ecuador, Taiwan, Haiti, Columbia, Hungary, Guatemala, Nicaragua, Scotland, Thailand, Yugoslavia, El-Salvador, Trinadad&Tobago, Peru, Hong, Holand-Netherlands."
   ]
  },
  {
   "cell_type": "code",
   "execution_count": null,
   "metadata": {},
   "outputs": [],
   "source": [
    "# Rename the columns as per the description from this file: \n",
    "sqladb.columns =['age', 'workclass', 'fnlwgt', 'education', 'education_num', 'marital_status', 'occupation', 'relationship', 'race', 'sex', 'capital_gain', 'capital_loss', 'hours_per_week', 'native_country', 'income']"
   ]
  },
  {
   "cell_type": "code",
   "execution_count": null,
   "metadata": {},
   "outputs": [],
   "source": [
    "sqladb.head()"
   ]
  },
  {
   "cell_type": "code",
   "execution_count": null,
   "metadata": {},
   "outputs": [],
   "source": [
    "sqladb.shape"
   ]
  },
  {
   "cell_type": "code",
   "execution_count": null,
   "metadata": {},
   "outputs": [],
   "source": [
    "# Create a sql db from adult dataset and name it sqladb1 \n",
    "sqladb1 = lambda q: sqldf(q, globals())"
   ]
  },
  {
   "cell_type": "markdown",
   "metadata": {},
   "source": [
    "<h6>\n",
    "1. Select 10 records from the adult sqladb\n",
    "</h6>"
   ]
  },
  {
   "cell_type": "code",
   "execution_count": null,
   "metadata": {},
   "outputs": [],
   "source": [
    "sqladb1(\"SELECT * FROM sqladb LIMIT 10;\")"
   ]
  },
  {
   "cell_type": "markdown",
   "metadata": {},
   "source": [
    "<h6>2. Show me the average hours per week of all men who are working in private sector </h6>"
   ]
  },
  {
   "cell_type": "code",
   "execution_count": null,
   "metadata": {},
   "outputs": [],
   "source": [
    "sqladb1(\"SELECT avg(hours_per_week) AS 'Average Hours Per Week' FROM sqladb  WHERE TRIM(workclass)= 'Private' and TRIM(sex) = 'Male';\")"
   ]
  },
  {
   "cell_type": "markdown",
   "metadata": {},
   "source": [
    "<h6>3. Show me the frequency table for education, occupation and relationship, separately </h6>"
   ]
  },
  {
   "cell_type": "code",
   "execution_count": null,
   "metadata": {},
   "outputs": [],
   "source": [
    "# Education"
   ]
  },
  {
   "cell_type": "code",
   "execution_count": null,
   "metadata": {},
   "outputs": [],
   "source": [
    "sqladb1(\"SELECT education, count(*) AS count FROM sqladb GROUP BY education\")"
   ]
  },
  {
   "cell_type": "code",
   "execution_count": null,
   "metadata": {},
   "outputs": [],
   "source": [
    "#Occupation"
   ]
  },
  {
   "cell_type": "code",
   "execution_count": null,
   "metadata": {},
   "outputs": [],
   "source": [
    "sqladb1(\"SELECT occupation, count(*) AS count FROM sqladb GROUP BY occupation\")"
   ]
  },
  {
   "cell_type": "code",
   "execution_count": null,
   "metadata": {},
   "outputs": [],
   "source": [
    "#Relationship"
   ]
  },
  {
   "cell_type": "code",
   "execution_count": null,
   "metadata": {},
   "outputs": [],
   "source": [
    "sqladb1(\"SELECT relationship, count(*) AS count FROM sqladb GROUP BY relationship\")"
   ]
  },
  {
   "cell_type": "markdown",
   "metadata": {},
   "source": [
    "<h6>4. Are there any people who are married, working in private sector and having a masters degree </h6>"
   ]
  },
  {
   "cell_type": "code",
   "execution_count": null,
   "metadata": {},
   "outputs": [],
   "source": [
    "sqladb1(\"SELECT marital_status, workclass, education, count(*) AS count FROM sqladb where marital_status Like '%Married%' and workclass Like '%Private%' and  education like '%Masters%' GROUP BY marital_status, workclass, education\")"
   ]
  },
  {
   "cell_type": "markdown",
   "metadata": {},
   "source": [
    "<h6>5. What is the average, minimum and maximum age group for people working in different sectors </h6>"
   ]
  },
  {
   "cell_type": "code",
   "execution_count": null,
   "metadata": {},
   "outputs": [],
   "source": [
    "# sqladb1(\"SELECT occupation, AVG(age) as Average_Age, MAX(age) AS Max_Age, MIN(age) AS Min_Age, Count(1) as cnt, Sum(age)/Count(1) as Avg_Test FROM sqladb GROUP BY occupation\")\n",
    "sqladb1(\"SELECT occupation, AVG(age) as Average_Age, MAX(age) AS Max_Age, MIN(age) AS Min_Age, Count(1) as cnt FROM sqladb GROUP BY occupation\")"
   ]
  },
  {
   "cell_type": "markdown",
   "metadata": {},
   "source": [
    "<h6>6. Calculate age distribution by country </h6>"
   ]
  },
  {
   "cell_type": "code",
   "execution_count": null,
   "metadata": {},
   "outputs": [],
   "source": [
    "sqladb1(\"SELECT native_country as COUNTRY, AGE, COUNT(1) as COUNT FROM sqladb GROUP BY native_country, AGE ORDER BY native_country DESC, AGE\")"
   ]
  },
  {
   "cell_type": "markdown",
   "metadata": {},
   "source": [
    "<h6>7. Compute a new column as 'Net-Capital-Gain' from the two columns 'capital-gain' and  'capital-loss'</h6>"
   ]
  },
  {
   "cell_type": "code",
   "execution_count": null,
   "metadata": {},
   "outputs": [],
   "source": [
    "# capital_gain, capital_loss\n",
    "\n",
    "sqladb1(\"SELECT age, workclass, fnlwgt, education, education_num, marital_status, occupation, relationship, race, sex, capital_gain, capital_loss , (capital_gain - capital_loss)  AS 'Net_Capital_Gain', hours_per_week, native_country, income FROM sqladb\")"
   ]
  },
  {
   "cell_type": "code",
   "execution_count": null,
   "metadata": {},
   "outputs": [],
   "source": []
  },
  {
   "cell_type": "code",
   "execution_count": null,
   "metadata": {},
   "outputs": [],
   "source": [
    "# Task 2: \n",
    " \n",
    "# Read the following data set: \n",
    "# https://archive.ics.uci.edu/ml/machine-learning-databases/adult/adult.data "
   ]
  },
  {
   "cell_type": "code",
   "execution_count": null,
   "metadata": {},
   "outputs": [],
   "source": [
    "#Import sqlalchemy packages\n",
    "from sqlalchemy import create_engine\n",
    "from sqlalchemy.ext.declarative import declarative_base\n",
    "from sqlalchemy import Column, Integer, String\n",
    "from sqlalchemy.orm import sessionmaker\n",
    "from sqlalchemy.ext.declarative import declarative_base\n",
    "from sqlalchemy import func"
   ]
  },
  {
   "cell_type": "code",
   "execution_count": null,
   "metadata": {},
   "outputs": [],
   "source": [
    "Base = declarative_base()\n",
    "engine = create_engine('sqlite:///:memory:', echo=True)"
   ]
  },
  {
   "cell_type": "code",
   "execution_count": null,
   "metadata": {},
   "outputs": [],
   "source": [
    "# 1.  Create an sqlalchemy engine using a sample from the data set "
   ]
  },
  {
   "cell_type": "code",
   "execution_count": null,
   "metadata": {},
   "outputs": [],
   "source": [
    "class Adult(Base):\n",
    "...     __tablename__ = 'Adult'\n",
    "...\n",
    "...     id = Column(Integer, primary_key=True)\n",
    "...     age = Column(Integer)\n",
    "...     workclass = Column(String)\n",
    "...     fnlwgt = Column(String)\n",
    "...     education = Column(String)\n",
    "...     education_num = Column(String)\n",
    "...     marital_status = Column(String)\n",
    "...     occupation = Column(String)\n",
    "...     relationship = Column(String)\n",
    "...     race = Column(String)\n",
    "...     sex = Column(String)\n",
    "...     capital_gain = Column(Integer)\n",
    "...     capital_loss = Column(Integer)\n",
    "...     hours_per_week = Column(Integer)\n",
    "...     native_country = Column(String)\n",
    "...     income = Column(String)\n",
    "...\n",
    "...     def __repr__(self):\n",
    "...         return \"<Adult(age='%d', workclass='%s', fnlwgt='%s, education='%s', education_num='%s', marital_status='%s', occupation='%s', relationship='%s' race='%s', sex='%s', capital_gain='%d', capital_loss='%d', hours_per_week='%d', native_country='%s', income='%s')>\" % (\n",
    "...         self.age, self.workclass, self.fnlwgt, self.education, self.education_num, self.marital_status, self.occupation, self.relationship, self.race, self.sex, self.capital_gain, self.capital_loss, self.hours_per_week, self.native_country, self.income)"
   ]
  },
  {
   "cell_type": "code",
   "execution_count": null,
   "metadata": {},
   "outputs": [],
   "source": [
    "Adult.__tablename__ "
   ]
  },
  {
   "cell_type": "code",
   "execution_count": null,
   "metadata": {},
   "outputs": [],
   "source": [
    "Adult.__table__ "
   ]
  },
  {
   "cell_type": "code",
   "execution_count": null,
   "metadata": {},
   "outputs": [],
   "source": [
    "Base.metadata.create_all(engine)"
   ]
  },
  {
   "cell_type": "code",
   "execution_count": null,
   "metadata": {},
   "outputs": [],
   "source": [
    "Session = sessionmaker(bind=engine)\n",
    "session = Session()"
   ]
  },
  {
   "cell_type": "code",
   "execution_count": null,
   "metadata": {},
   "outputs": [],
   "source": [
    "session.add_all([ \n",
    "Adult(id=1, age=39,workclass= 'Self-emp-not-inc',education='Bachelors',education_num=13, marital_status='Married-civ-spouse',occupation='Exec-managerial', relationship='Husband', race='White',sex='Male',capital_gain=0, capital_loss=0, hours_per_week=13, native_country='United-States',income='<=50K'),\n",
    "                                                                                                        \n",
    "        Adult(id=2, age=50,workclass= 'Private', fnlwgt=215646, education='HS-grad',education_num=13, marital_status='Divorced',occupation='Handlers-cleaners', relationship='Not-in-family', race='White',sex='Male',capital_gain=0, capital_loss=0, hours_per_week=40, native_country='United-States',income='<=50K'),\n",
    "                                                                                                     \n",
    "        Adult(id=3, age=38,workclass= 'Private', fnlwgt=234721, education=' 11th',education_num=7, marital_status='Married-civ-spouse',occupation='Handlers-cleaners', relationship='Husband', race='Black',sex='Male',capital_gain=0, capital_loss=0, hours_per_week=40, native_country='United-States',income='<=50K'),\n",
    "                                                                                                 \n",
    "        Adult(id=4, age=53,workclass= 'Private', fnlwgt=338409, education='Bachelors',education_num=13, marital_status='Married-civ-spouse',occupation='Prof-specialty', relationship='Wife', race='Black',sex='Female',capital_gain=0, capital_loss=0, hours_per_week=40, native_country='Cuba',income='<=50K'),\n",
    "                                                                                                    \n",
    "        Adult(id=5, age=28,workclass= 'Private', fnlwgt=284582, education='Masters',education_num=14, marital_status='Married-civ-spouse',occupation='Exec-managerial', relationship='Wife', race='White',sex='Female',capital_gain=0, capital_loss=0, hours_per_week=40, native_country='United-States',income='<=50K'),\n",
    "                                                                                              \n",
    "        Adult(id=6, age=37,workclass= 'Private', fnlwgt=160187, education='9th',education_num=5, marital_status='Married-spouse-absent',occupation='Other-service', relationship='Not-in-family', race='Black',sex='Female',capital_gain=0, capital_loss=0, hours_per_week=16, native_country='Jamaica',income='<=50K'),\n",
    "                                                                                                 \n",
    "        Adult(id=7, age=49,workclass= 'Self-emp-not-inc', fnlwgt=209642, education='HS-grad',education_num=9, marital_status='Married-civ-spouse',occupation='Exec-managerial', relationship='Husband', race='White',sex='Male',capital_gain=0, capital_loss=0, hours_per_week=45, native_country='United-States',income='>50K'),\n",
    "                                                                                                    \n",
    "        Adult(id=8, age=52,workclass= 'Private', fnlwgt=45781, education='Masters',education_num=14, marital_status='Never-married',occupation='Prof-specialty', relationship='Not-in-family', race='White',sex='Female',capital_gain=14084, capital_loss=0, hours_per_week=50, native_country='United-States',income='>50K'),\n",
    "                                                                                                  \n",
    "        Adult(id=9, age=31,workclass= 'Private', fnlwgt=159449, education='Bachelors',education_num=13, marital_status='Married-civ-spouse',occupation='Exec-managerial', relationship='Husband', race='White',sex='Male',capital_gain=5178, capital_loss=0, hours_per_week=40, native_country='United-States',income='>50K'),\n",
    "                                                                                                    \n",
    "        Adult(id=10, age=42,workclass= 'Private', fnlwgt=280464, education='Some-college',education_num=10, marital_status='Married-civ-spouse',occupation='Exec-managerial', relationship='Husband', race='Black',sex='Male',capital_gain=0, capital_loss=0, hours_per_week=80, native_country='United-States',income='>50K'),\n",
    "                                                                                                   \n",
    "        Adult(id=11, age=37,workclass= 'State-gov', fnlwgt=141297, education='Bachelors',education_num=13, marital_status='Married-civ-spouse',occupation='Prof-specialty', relationship='Husband', race='Asian-Pac-Islander',sex='Male',capital_gain=0, capital_loss=0, hours_per_week=40, native_country='India',income='>50K'),\n",
    "                                                                                               \n",
    "        Adult(id=12, age=30,workclass= 'Private', fnlwgt=122272, education='Bachelors',education_num=13, marital_status='Never-married',occupation='Adm-clerical', relationship='Own-child', race='White',sex='Female',capital_gain=0, capital_loss=0, hours_per_week=30, native_country='United-States',income='<=50K'),\n",
    "                                                                                               \n",
    "        Adult(id=13, age=23,workclass= 'Private', fnlwgt=205019, education='Assoc-acdm',education_num=12, marital_status='Never-married',occupation='Sales', relationship='Not-in-family', race='Black',sex='Male',capital_gain=2174, capital_loss=0, hours_per_week=50, native_country='United-States',income='<=50K'),\n",
    "                                                                                               \n",
    "        Adult(id=14, age=32,workclass= 'Private', fnlwgt=121772, education='Assoc-voc',education_num=11, marital_status='Married-civ-spouse',occupation='Craft-repair', relationship='Husband', race='Asian-Pac-Islander',sex='Male',capital_gain=0, capital_loss=0, hours_per_week=40, native_country='?',income='>50K'),\n",
    "                                                                                               \n",
    "        Adult(id=15, age=40,workclass= 'Private', fnlwgt=245487, education='7th-8th',education_num=4, marital_status='Married-civ-spouse',occupation='Transport-moving', relationship='Husband', race='Amer-Indian-Eskimo',sex='Male',capital_gain=0, capital_loss=0, hours_per_week=45, native_country='Mexico',income='<=50K'),\n",
    "                                                                                                \n",
    "        Adult(id=16, age=34,workclass= 'Self-emp-not-inc', fnlwgt=176756, education='HS-grad',education_num=9, marital_status='Never-married',occupation='Farming-fishing', relationship='Own-child', race='White',sex='Male',capital_gain=0, capital_loss=0, hours_per_week=35, native_country='United-States',income='<=50K'),\n",
    "                                                                                            \n",
    "        Adult(id=17, age=25,workclass= 'Private', fnlwgt=186824, education='HS-grad',education_num=9, marital_status='Never-married',occupation='Machine-op-inspct', relationship='Unmarried', race='White',sex='Male',capital_gain=0, capital_loss=0, hours_per_week=40, native_country='United-States',income='<=50K'),\n",
    "                                                                                             \n",
    "        Adult(id=18, age=32,workclass= 'Private', fnlwgt=28887, education='11th',education_num=7, marital_status='Married-civ-spouse',occupation='Sales', relationship='Husband', race='White',sex='Male',capital_gain=0, capital_loss=0, hours_per_week=50, native_country='United-States',income='<=50K'),\n",
    "                                                                                        \n",
    "        Adult(id=19, age=38,workclass= 'Self-emp-not-inc', fnlwgt=292175, education='Masters',education_num=14, marital_status='Divorced',occupation='Exec-managerial', relationship='Unmarried', race='White',sex='Female',capital_gain=0, capital_loss=0, hours_per_week=45, native_country='United-States',income='>50K'),\n",
    "                            \n",
    "        Adult(id=20, age=43,workclass= 'Private', fnlwgt=193524, education='Doctorate',education_num=16, marital_status='Married-civ-spouse',occupation='Prof-specialty', relationship='Husband', race='White',sex='Male',capital_gain=0, capital_loss=0, hours_per_week=60, native_country='United-States',income='>50K')\n",
    "     ]) "
   ]
  },
  {
   "cell_type": "code",
   "execution_count": null,
   "metadata": {},
   "outputs": [],
   "source": [
    "for row in session.query(Adult).all():\n",
    "    print(row)"
   ]
  },
  {
   "cell_type": "code",
   "execution_count": null,
   "metadata": {},
   "outputs": [],
   "source": [
    "session.commit() "
   ]
  },
  {
   "cell_type": "code",
   "execution_count": null,
   "metadata": {},
   "outputs": [],
   "source": [
    "# --------------------------------------------------------------------------------------"
   ]
  },
  {
   "cell_type": "code",
   "execution_count": null,
   "metadata": {},
   "outputs": [],
   "source": [
    "# 2.  Write two basic update queries "
   ]
  },
  {
   "cell_type": "code",
   "execution_count": null,
   "metadata": {},
   "outputs": [],
   "source": [
    "from sqlalchemy import update\n",
    "conn=engine.connect()"
   ]
  },
  {
   "cell_type": "code",
   "execution_count": null,
   "metadata": {},
   "outputs": [],
   "source": [
    "# Update 1\n",
    "stmt = update(Adult).where(Adult.hours_per_week > 40).values(capital_gain=200)\n",
    "conn.execute(stmt)\n",
    "session.commit()"
   ]
  },
  {
   "cell_type": "code",
   "execution_count": null,
   "metadata": {},
   "outputs": [],
   "source": [
    "# Update 2\n",
    "stmt = update(Adult).where(Adult.age > 60).values(workclass = 'Retired-Senior')\n",
    "conn.execute(stmt)\n",
    "session.commit()"
   ]
  },
  {
   "cell_type": "code",
   "execution_count": null,
   "metadata": {},
   "outputs": [],
   "source": [
    "for adult in session.query(Adult).filter(Adult.age > 60):\n",
    "    print(adult.workclass, adult.age)"
   ]
  },
  {
   "cell_type": "code",
   "execution_count": null,
   "metadata": {},
   "outputs": [],
   "source": [
    "# 3.  Write two delete queries "
   ]
  },
  {
   "cell_type": "code",
   "execution_count": null,
   "metadata": {},
   "outputs": [],
   "source": [
    "# Delete 1\n",
    "session.query(Adult).filter(Adult.age > 60).delete()\n",
    "session.commit()"
   ]
  },
  {
   "cell_type": "code",
   "execution_count": null,
   "metadata": {},
   "outputs": [],
   "source": [
    "# Delete 2\n",
    "session.query(Adult).filter(Adult.id == 1).delete()\n",
    "session.commit()"
   ]
  },
  {
   "cell_type": "code",
   "execution_count": null,
   "metadata": {},
   "outputs": [],
   "source": [
    "# Verify Data\n",
    "# for adult in session.query(Adult).filter(Adult.id == 2):\n",
    "#     print(adult)"
   ]
  },
  {
   "cell_type": "code",
   "execution_count": null,
   "metadata": {},
   "outputs": [],
   "source": [
    "# 4.  Write two filter queries "
   ]
  },
  {
   "cell_type": "code",
   "execution_count": null,
   "metadata": {},
   "outputs": [],
   "source": [
    "# Filter 1\n",
    "for adult in session.query(Adult).filter(Adult.age > 30):\n",
    "    print(adult)\n",
    "# stmt = session.query(Adult).filter(Adult.age > 30).filter(Adult.age <=40)\n",
    "# conn.execute(stmt)\n"
   ]
  },
  {
   "cell_type": "code",
   "execution_count": null,
   "metadata": {},
   "outputs": [],
   "source": [
    "#Filter 2\n",
    "for adult in session.query(Adult).filter(Adult.native_country == 'India'):\n",
    "    print(adult)"
   ]
  },
  {
   "cell_type": "code",
   "execution_count": null,
   "metadata": {},
   "outputs": [],
   "source": [
    "# 5.  Write two function queries "
   ]
  },
  {
   "cell_type": "code",
   "execution_count": null,
   "metadata": {},
   "outputs": [],
   "source": [
    "# Function 1\n",
    "session.query(Adult.workclass, func.sum(Adult.capital_gain)).group_by(Adult.workclass).all()"
   ]
  },
  {
   "cell_type": "code",
   "execution_count": null,
   "metadata": {},
   "outputs": [],
   "source": [
    "# Function 2\n",
    "session.query(Adult.native_country, Adult.marital_status, func.count(Adult.marital_status)).group_by(Adult.native_country, Adult.marital_status).all()"
   ]
  },
  {
   "cell_type": "code",
   "execution_count": null,
   "metadata": {},
   "outputs": [],
   "source": [
    "# -------------------------------------------------------------------------"
   ]
  }
 ],
 "metadata": {
  "kernelspec": {
   "display_name": "Python 3",
   "language": "python",
   "name": "python3"
  },
  "language_info": {
   "codemirror_mode": {
    "name": "ipython",
    "version": 3
   },
   "file_extension": ".py",
   "mimetype": "text/x-python",
   "name": "python",
   "nbconvert_exporter": "python",
   "pygments_lexer": "ipython3",
   "version": "3.7.1"
  }
 },
 "nbformat": 4,
 "nbformat_minor": 2
}
