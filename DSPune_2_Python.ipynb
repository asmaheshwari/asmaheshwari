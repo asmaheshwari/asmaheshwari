{
 "cells": [
  {
   "cell_type": "code",
   "execution_count": null,
   "metadata": {},
   "outputs": [],
   "source": [
    "2.​ Problem Statement\n",
    "\n",
    "Task 1:\n",
    "\n",
    "1.1\n",
    "Write a Python Program to implement your own myreduce() function which works exactly like\n",
    "Python's built-in function reduce()\n",
    "\n",
    "1.2\n",
    "Write a Python program to implement your own myfilter() function which works exactly like\n",
    "Python's built-in function filter()\n",
    "\n",
    "2.\n",
    "Implement List comprehensions to produce the following lists.\n",
    "Write List comprehensions to produce the following Lists\n",
    "['A', 'C', 'A', 'D', 'G', 'I', ’L’, ‘ D’]\n",
    "['x', 'xx', 'xxx', 'xxxx', 'y', 'yy', 'yyy', 'yyyy', 'z', 'zz', 'zzz', 'zzzz']\n",
    "['x', 'y', 'z', 'xx', 'yy', 'zz', 'xx', 'yy', 'zz', 'xxxx', 'yyyy', 'zzzz']\n",
    "\n",
    "[[2], [3], [4], [3], [4], [5], [4], [5], [6]]\n",
    "[[2, 3, 4, 5], [3, 4, 5, 6], [4, 5, 6, 7], [5, 6, 7, 8]]\n",
    "[(1, 1), (2, 1), (3, 1), (1, 2), (2, 2), (3, 2), (1, 3), (2, 3), (3, 3)]\n",
    "\n",
    "3.\n",
    "Implement a function longestWord() that takes a list of words and returns the longest one.\n",
    "\n",
    "Task 2:\n",
    "\n",
    "1.1\n",
    "Write a Python Program(with class concepts) to find the area of the triangle using the below\n",
    "formula.\n",
    "area = (s*(s-a)*(s-b)*(s-c)) ** 0.5\n",
    "Function to take the length of the sides of triangle from user should be defined in the parent\n",
    "class and function to calculate the area should be defined in subclass.\n",
    "\n",
    "1.2\n",
    "Write a function filter_long_words() that takes a list of words and an integer n and returns the list\n",
    "of words that are longer than n.\n",
    "\n",
    "2.1\n",
    "Write a Python program using function concept that maps list of words into a list of integers\n",
    "representing the lengths of the corresponding words.\n",
    "Hint: ​If a list [ ab,cde,erty] is passed on to the python function output should come as [2,3,4]\n",
    "Here 2,3 and 4 are the lengths of the words in the list.\n",
    "\n",
    "2.2\n",
    "Write a Python function which takes a character (i.e. a string of length 1) and returns True if it is\n",
    "a vowel, False otherwise.\n",
    "\n",
    "NOTE:​ ​The​ ​solution​ ​shared​ ​through​ ​Github​ ​should​ ​contain​ ​the​ ​source code​ ​used​ ​ and​\n",
    "​the​ ​screenshot​ ​of​ ​the​ ​output."
   ]
  },
  {
   "cell_type": "code",
   "execution_count": 16,
   "metadata": {},
   "outputs": [
    {
     "name": "stdout",
     "output_type": "stream",
     "text": [
      "12 45\n",
      "57 78\n",
      "135 65\n",
      "200 67\n",
      "267 56\n"
     ]
    },
    {
     "data": {
      "text/plain": [
       "323"
      ]
     },
     "execution_count": 16,
     "metadata": {},
     "output_type": "execute_result"
    }
   ],
   "source": [
    "#1.1 Write a Python Program to implement your own myreduce() function which works exactly like\n",
    "# Python's built-in function reduce()\n",
    "from functools import reduce\n",
    "def myreduce(a,b):\n",
    "    print(a,b)\n",
    "    return a+b\n",
    "\n",
    "lst = [12,45,78,65,67,56]\n",
    "reduce(myreduce,lst)\n"
   ]
  },
  {
   "cell_type": "code",
   "execution_count": 26,
   "metadata": {},
   "outputs": [
    {
     "name": "stdin",
     "output_type": "stream",
     "text": [
      "Enter string to filter: My Account no. is 1234 with bal of amount 9809\n"
     ]
    },
    {
     "data": {
      "text/plain": [
       "['My', 'Account', 'no.', 'is', 'with', 'bal', 'of', 'amount']"
      ]
     },
     "execution_count": 26,
     "metadata": {},
     "output_type": "execute_result"
    }
   ],
   "source": [
    "#1.2 Write a Python program to implement your own myfilter() function which works exactly like\n",
    "# Python's built-in function filter()\n",
    "\n",
    "# s=\"My Account Number is A1232 B34567 and has been locked\"\n",
    "\n",
    "def alpha_string(a):\n",
    "    for ss in a:\n",
    "        if ss.isalpha()==True:\n",
    "            return ss\n",
    "    else:\n",
    "         return ''\n",
    "\n",
    "b=input('Enter string to filter: ')\n",
    "list(filter(alpha_string,b.split()))"
   ]
  },
  {
   "cell_type": "code",
   "execution_count": 52,
   "metadata": {},
   "outputs": [
    {
     "name": "stdout",
     "output_type": "stream",
     "text": [
      "['A', 'C', 'A', 'D', 'G', 'I', 'L', 'D']\n",
      "['x', 'xx', 'xxx', 'xxxx', 'y', 'yy', 'yyy', 'yyyy', 'z', 'zz', 'zzz', 'zzzz']\n",
      "['x', 'y', 'z', 'xx', 'yy', 'zz', 'xxx', 'yyy', 'zzz', 'xxxx', 'yyyy', 'zzzz']\n",
      "\n",
      "[[2], [3], [4], [3], [4], [5], [4], [5], [6]]\n",
      "[[2, 3, 4, 5], [3, 4, 5, 6], [4, 5, 6, 7], [5, 6, 7, 8]]\n",
      "[(1, 1), (1, 2), (1, 3), (2, 1), (2, 2), (2, 3), (3, 1), (3, 2), (3, 3)]\n"
     ]
    }
   ],
   "source": [
    "# Implement List comprehensions to produce the following lists.\n",
    "# Write List comprehensions to produce the following Lists\n",
    "# ['A', 'C', 'A', 'D', 'G', 'I', ’L’, ‘ D’]\n",
    "# ['x', 'xx', 'xxx', 'xxxx', 'y', 'yy', 'yyy', 'yyyy', 'z', 'zz', 'zzz', 'zzzz']\n",
    "# ['x', 'y', 'z', 'xx', 'yy', 'zz', 'xx', 'yy', 'zz', 'xxxx', 'yyyy', 'zzzz']\n",
    "\n",
    "# [[2], [3], [4], [3], [4], [5], [4], [5], [6]]\n",
    "# [[2, 3, 4, 5], [3, 4, 5, 6], [4, 5, 6, 7], [5, 6, 7, 8]]\n",
    "# [(1, 1), (2, 1), (3, 1), (1, 2), (2, 2), (3, 2), (1, 3), (2, 3), (3, 3)]\n",
    "\n",
    "\n",
    "a=[n for n in 'ACADGILD'] #Correct\n",
    "print(a)\n",
    "\n",
    "\n",
    "b=list(a*i for a in 'xyz' for i in range(1,5))\n",
    "print(b)\n",
    "\n",
    "c=list(a*i for i in range(1,5) for a in 'xyz')\n",
    "print(c)\n",
    "\n",
    "print()\n",
    "\n",
    "d= list([i+j] for i in range(2,5) for j in range(3))\n",
    "print(d)\n",
    "\n",
    "e=  [[(i+j) for i in range(2,6)] for j in range(4)] \n",
    "print(e)\n",
    "\n",
    "f= [(i,j) for i in range(1,4) for j in range(1,4)]  \n",
    "print(f)\n"
   ]
  },
  {
   "cell_type": "code",
   "execution_count": 53,
   "metadata": {},
   "outputs": [
    {
     "name": "stdin",
     "output_type": "stream",
     "text": [
      "Enter word dfnkndfndfn\n",
      "Enter word dlkfldfmglmdflmgldfm\n",
      "Enter word ljndfgkndflngodflgfnmlmgblmflgmbg\n",
      "Enter word stop\n"
     ]
    },
    {
     "name": "stdout",
     "output_type": "stream",
     "text": [
      "Longest word among the input ['dfnkndfndfn', 'dlkfldfmglmdflmgldfm', 'ljndfgkndflngodflgfnmlmgblmflgmbg'] is ljndfgkndflngodflgfnmlmgblmflgmbg\n"
     ]
    }
   ],
   "source": [
    "# 1.3.Implement a function longestWord() that takes a list of words and returns the longest one.\n",
    "\n",
    "def longestWord():\n",
    "    longWord =\"\"\n",
    "    longLen=0\n",
    "    lst=[]\n",
    "    word  = input('Enter word : ')\n",
    "    while word !='stop':\n",
    "        lst.append(word)\n",
    "        word=input('Enter word : ')\n",
    "        for w in lst:\n",
    "            if longLen < len(w):\n",
    "                longLen = len(w)\n",
    "                longWord = w\n",
    "    print('Longest word among the input {} is {}'.format(lst,longWord))\n",
    "\n",
    "longestWord()"
   ]
  },
  {
   "cell_type": "code",
   "execution_count": 56,
   "metadata": {},
   "outputs": [
    {
     "name": "stdin",
     "output_type": "stream",
     "text": [
      "Enter side 1 : 5\n",
      "Enter side 2 : 7\n",
      "Enter side 3 : 9\n"
     ]
    },
    {
     "name": "stdout",
     "output_type": "stream",
     "text": [
      "Sides of Triangle are 5.0,7.0,9.0\n",
      "Area of Triangle is 17.41\n"
     ]
    }
   ],
   "source": [
    "###### Task 2:\n",
    "\n",
    "# 1.1\n",
    "# Write a Python Program(with class concepts) to find the area of the triangle using the below\n",
    "# formula.\n",
    "# area = (s*(s-a)*(s-b)*(s-c)) ** 0.5\n",
    "# Function to take the length of the sides of triangle from user should be defined in the parent\n",
    "# class and function to calculate the area should be defined in subclass.\n",
    "\n",
    "class Geometry:\n",
    "    def __init__(self):\n",
    "        self.a =float(input(\"Enter side 1 : \"))\n",
    "        self.b =float(input(\"Enter side 2 : \"))\n",
    "        self.c =float(input(\"Enter side 3 : \"))\n",
    "        print(\"Sides of Triangle are {},{},{}\".format(self.a,self.b,self.c))\n",
    "\n",
    "class Triangle(Geometry):\n",
    "    def __init__(self):\n",
    "        Geometry.__init__(self)\n",
    "\n",
    "    def CalcArea(self):\n",
    "        a, b, c = self.a,self.b, self.c\n",
    "        s = (a + b + c) / 2\n",
    "        area = (s*(s-a)*(s-b)*(s-c)) ** 0.5\n",
    "        print(\"Area of Triangle is {}\".format(round(area,2)))   \n",
    "        \n",
    "t=Triangle()\n",
    "t.CalcArea()"
   ]
  },
  {
   "cell_type": "code",
   "execution_count": 58,
   "metadata": {},
   "outputs": [
    {
     "name": "stdin",
     "output_type": "stream",
     "text": [
      "Enter a list of comma separated words r,ty,tyu,ytre,vgfrt\n"
     ]
    },
    {
     "name": "stdout",
     "output_type": "stream",
     "text": [
      "['vgfrt']\n"
     ]
    }
   ],
   "source": [
    "# Task #2\n",
    "# 1.2\n",
    "# Write a function filter_long_words() that takes a list of words and an integer n and returns the list\n",
    "# of words that are longer than n.\n",
    "\n",
    "\n",
    "# def filter_long_words(n):\n",
    "#     str1= input(\"Enter a list of comma separated words\")\n",
    "#     lst=[]\n",
    "#     word = str1.split(',')\n",
    "#     x=[w for w in list(map(lambda x:x, word)) if len(w) > n]\n",
    "#     print(x)\n",
    "    \n",
    "# filter_long_words(4)\n",
    "\n",
    "\n",
    "\n",
    "def filter_long_words(n):\n",
    "    str1= input(\"Enter a list of comma separated words : \")\n",
    "    word = str1.split(',')\n",
    "    x=[w for w in list(map(lambda x:x, word)) if len(w) > n]\n",
    "    print(x)\n",
    "    \n",
    "filter_long_words(4)"
   ]
  },
  {
   "cell_type": "code",
   "execution_count": 150,
   "metadata": {},
   "outputs": [
    {
     "name": "stdin",
     "output_type": "stream",
     "text": [
      "Enter a list of comma separated words Arun,asha,my,account,balance,is,Rs20000\n"
     ]
    },
    {
     "name": "stdout",
     "output_type": "stream",
     "text": [
      "['Arun', 'asha', 'my', 'account', 'balance', 'is', 'Rs20000']\n",
      "[4, 4, 2, 7, 7, 2, 7]\n"
     ]
    }
   ],
   "source": [
    "# 2.1\n",
    "# Write a Python program using function concept that maps list of words into a list of integers\n",
    "# representing the lengths of the corresponding words.\n",
    "# Hint: ​If a list [ ab,cde,erty] is passed on to the python function output should come as [2,3,4]\n",
    "# Here 2,3 and 4 are the lengths of the words in the list.\n",
    "\n",
    "\n",
    "def find_len_of_words():\n",
    "    str1= input(\"Enter a list of comma separated words : \")\n",
    "    lst=[]\n",
    "    word = str1.split(',')\n",
    "#     print(word)\n",
    "    x=[len(w) for w in list(map(lambda x:x, word))]\n",
    "    print(x)\n",
    "    \n",
    "find_len_of_words()"
   ]
  },
  {
   "cell_type": "code",
   "execution_count": 6,
   "metadata": {},
   "outputs": [
    {
     "name": "stdin",
     "output_type": "stream",
     "text": [
      "Enter Character :  A\n"
     ]
    },
    {
     "data": {
      "text/plain": [
       "True"
      ]
     },
     "execution_count": 6,
     "metadata": {},
     "output_type": "execute_result"
    }
   ],
   "source": [
    "# 2.2\n",
    "# Write a Python function which takes a character (i.e. a string of length 1) and returns True if it is\n",
    "# a vowel, False otherwise.\n",
    "\n",
    "def check_vowel():\n",
    "    lst=list(['a','e','i','o','u','A','E','I','O','U'])\n",
    "    a=input(\"Enter Character : \")\n",
    "    while len(a)==1:\n",
    "        if a in lst:\n",
    "            return True\n",
    "        else:\n",
    "            return False\n",
    "    else:\n",
    "        return False\n",
    "    \n",
    "check_vowel()\n",
    "\n"
   ]
  },
  {
   "cell_type": "code",
   "execution_count": null,
   "metadata": {},
   "outputs": [],
   "source": []
  },
  {
   "cell_type": "code",
   "execution_count": null,
   "metadata": {},
   "outputs": [],
   "source": []
  }
 ],
 "metadata": {
  "kernelspec": {
   "display_name": "Python 3",
   "language": "python",
   "name": "python3"
  },
  "language_info": {
   "codemirror_mode": {
    "name": "ipython",
    "version": 3
   },
   "file_extension": ".py",
   "mimetype": "text/x-python",
   "name": "python",
   "nbconvert_exporter": "python",
   "pygments_lexer": "ipython3",
   "version": "3.7.1"
  }
 },
 "nbformat": 4,
 "nbformat_minor": 2
}
