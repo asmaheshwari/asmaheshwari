{
 "cells": [
  {
   "cell_type": "code",
   "execution_count": 1,
   "metadata": {},
   "outputs": [
    {
     "name": "stdout",
     "output_type": "stream",
     "text": [
      "Addition Value =7\n",
      "Subtraction Value =3\n",
      "Division Value =2.4\n",
      "Integer Division Value =2\n",
      "Exponent Value =25\n"
     ]
    }
   ],
   "source": [
    "# TASK 1.1\n",
    "\n",
    "a=2\n",
    "b=5\n",
    "c=12\n",
    "\n",
    "x=a+b #Addition of 2 number\n",
    "print (\"Addition Value =\" + str(x))\n",
    "\n",
    "y=b-a # subtraction od f number\n",
    "print (\"Subtraction Value =\" + str(y))\n",
    "\n",
    "z=c/5 # Division of 2 numbers\n",
    "print (\"Division Value =\" + str(z))\n",
    "\n",
    "d=c//5 # integer division \n",
    "print(\"Integer Division Value =\" + str(d))\n",
    "\n",
    "e=b**a # Exponent \n",
    "print(\"Exponent Value =\" + str(e))"
   ]
  },
  {
   "cell_type": "code",
   "execution_count": 2,
   "metadata": {},
   "outputs": [
    {
     "name": "stdout",
     "output_type": "stream",
     "text": [
      "[2002, 2009, 2016, 2023, 2037, 2044, 2051, 2058, 2072, 2079, 2086, 2093, 2107, 2114, 2121, 2128, 2142, 2149, 2156, 2163, 2177, 2184, 2191, 2198, 2212, 2219, 2226, 2233, 2247, 2254, 2261, 2268, 2282, 2289, 2296, 2303, 2317, 2324, 2331, 2338, 2352, 2359, 2366, 2373, 2387, 2394, 2401, 2408, 2422, 2429, 2436, 2443, 2457, 2464, 2471, 2478, 2492, 2499, 2506, 2513, 2527, 2534, 2541, 2548, 2562, 2569, 2576, 2583, 2597, 2604, 2611, 2618, 2632, 2639, 2646, 2653, 2667, 2674, 2681, 2688, 2702, 2709, 2716, 2723, 2737, 2744, 2751, 2758, 2772, 2779, 2786, 2793, 2807, 2814, 2821, 2828, 2842, 2849, 2856, 2863, 2877, 2884, 2891, 2898, 2912, 2919, 2926, 2933, 2947, 2954, 2961, 2968, 2982, 2989, 2996]\n"
     ]
    }
   ],
   "source": [
    "# TASK 1.2 From the range of number between 2000 and 3000 identify the number which are divisible by 7 but not by 5\n",
    "\n",
    "lst=[]\n",
    "arg= range(2000,3000)\n",
    "for val in arg:\n",
    "    if val%7 == 0:\n",
    "        if val%5 != 0:\n",
    "            lst.append(val)\n",
    "print(lst)"
   ]
  },
  {
   "cell_type": "code",
   "execution_count": 3,
   "metadata": {},
   "outputs": [
    {
     "name": "stdin",
     "output_type": "stream",
     "text": [
      "Enter your Full Name Arun Maheshwari\n"
     ]
    },
    {
     "name": "stdout",
     "output_type": "stream",
     "text": [
      "Maheshwari, Arun\n"
     ]
    }
   ],
   "source": [
    "# TASK 1.3 Read fullname as input from user and print name in reverse order Surname, Firstname\n",
    "full_name = input(\"Enter your Full Name : \")\n",
    "j = full_name.find(' ',0,len(full_name))\n",
    "first = full_name[0:j]\n",
    "surname = full_name[j+1:len(full_name)]\n",
    "print (\"%s, %s\" %\n",
    "       (surname, first))"
   ]
  },
  {
   "cell_type": "code",
   "execution_count": 4,
   "metadata": {},
   "outputs": [
    {
     "name": "stdin",
     "output_type": "stream",
     "text": [
      "Enter Radius of a sphere 5\n"
     ]
    },
    {
     "name": "stdout",
     "output_type": "stream",
     "text": [
      "Volume of Sphere with Diameter 10 is 523.67\n"
     ]
    }
   ],
   "source": [
    "# TASK 1.4 Volume of a Sprhere -- Input as radius of Sphere\n",
    "# Volume of a sphere V=4/3 * π * r**3\n",
    "# Value is π  = 3.142\n",
    "\n",
    "pi = 3.142\n",
    "r = input(\"Enter Radius of a sphere : \")\n",
    "Vol = ((4/3) * pi * (int(r)**3))\n",
    "print (\"Volume of Sphere with Diameter \" + str(int(r)*2) + \" is \" +  str(round(Vol,2)))"
   ]
  },
  {
   "cell_type": "code",
   "execution_count": 5,
   "metadata": {},
   "outputs": [
    {
     "name": "stdin",
     "output_type": "stream",
     "text": [
      "Enter Diameter of a sphere 10\n"
     ]
    },
    {
     "name": "stdout",
     "output_type": "stream",
     "text": [
      "Volume of Sphere with Diameter 10 is 523.67\n"
     ]
    }
   ],
   "source": [
    "# TASK 1.4 Volume of a Sprhere -- Input as diameter of Sphere\n",
    "# Volume of a sphere V=4/3 * π * r**3\n",
    "# Value is π  = 3.142\n",
    "\n",
    "pi = 3.142\n",
    "d = input(\"Enter Diameter of a sphere : \")\n",
    "Vol = ((4/3) * pi * ((int(d)/2)**3))\n",
    "print (\"Volume of Sphere with Diameter \" + str(int(d)) + \" is \" +  str(round(Vol,2)))"
   ]
  },
  {
   "cell_type": "code",
   "execution_count": 9,
   "metadata": {},
   "outputs": [
    {
     "name": "stdin",
     "output_type": "stream",
     "text": [
      "Enter comma separated number 12,34,34,56,567,667\n"
     ]
    },
    {
     "name": "stdout",
     "output_type": "stream",
     "text": [
      "[12, 34, 34, 56, 567, 667]\n"
     ]
    }
   ],
   "source": [
    "# TASK 2.1 Write program to accept a seq of comma separated numbers from console and generate list\n",
    "str1= input(\"Enter comma separated number : \")\n",
    "lst=[]\n",
    "num = str1.split(',')\n",
    "for n in num:\n",
    "        lst.append(int(n))\n",
    "print(lst)\n",
    "\n",
    "#for n in num:\n",
    "#    lst.append(n)\n",
    "#print(lst)"
   ]
  },
  {
   "cell_type": "code",
   "execution_count": 10,
   "metadata": {},
   "outputs": [
    {
     "name": "stdout",
     "output_type": "stream",
     "text": [
      "\n",
      "*\n",
      "**\n",
      "***\n",
      "****\n",
      "*****\n",
      "****\n",
      "***\n",
      "**\n",
      "*\n"
     ]
    }
   ],
   "source": [
    "# Task 2.2 Pattern printing\n",
    "n=0\n",
    "for a in range(0,5):\n",
    "    n=n+1\n",
    "    for x in range(0,(n-1)):\n",
    "        print('*', end='')\n",
    "    print()\n",
    "for y in range(0,5):\n",
    "    n=n-1\n",
    "    for y in range(0,n+1):\n",
    "        print('*', end='')\n",
    "    print()"
   ]
  },
  {
   "cell_type": "code",
   "execution_count": 11,
   "metadata": {},
   "outputs": [
    {
     "name": "stdin",
     "output_type": "stream",
     "text": [
      "Enter String to be reversed Mahek and Diksha\n"
     ]
    },
    {
     "name": "stdout",
     "output_type": "stream",
     "text": [
      "Reverse of Mahek and Diksha  is  ahskiD dna kehaM\n"
     ]
    }
   ],
   "source": [
    "# Task 2.3 Reverse a word after accepting user input\n",
    "ss=input(\"Enter String to be reversed : \")\n",
    "print(\"Reverse of {}\".format(ss) ,\" is \" , ss[::-1])"
   ]
  },
  {
   "cell_type": "code",
   "execution_count": 12,
   "metadata": {},
   "outputs": [
    {
     "name": "stdout",
     "output_type": "stream",
     "text": [
      " WE, THE PEOPLE OF INDIA\n",
      "   having solemnly resolved the constitute India into a SOVEREIGN, SOCIALIST\n",
      "       SECULAR, DEMOCRATIC REPUBLIC and to secure to all its citizen\n"
     ]
    }
   ],
   "source": [
    "# Task 2.4 Formatted Output\n",
    "# WE, THE PEOPLE OF INDIA, \n",
    "#    having solemnly resolved the constitute India into a SOVEREIGN,\n",
    "#        SOCIALIST, SECULAR, DEMOCRATIC REPUBLIC\n",
    "#            and to secure to all its citizen\n",
    "\n",
    "pharse = \"WE, THE PEOPLE OF INDIA, having solemnly resolved the constitute India into a SOVEREIGN, SOCIALIST, SECULAR, DEMOCRATIC REPUBLIC and to secure to all its citizen\"\n",
    "lst=[]\n",
    "ss=pharse.split(', ')\n",
    "for s in ss:\n",
    "    lst.append(s)\n",
    "lst\n",
    "i=-1\n",
    "for x in lst:\n",
    "    if i+1 < len(lst):\n",
    "        #print(\" \"*(i*2),\"{},\".format(lst[i+1]),\"{},\".format(lst[i+2]))\n",
    "        print(\" \"*(i*2),\"%s, %s\" %\n",
    "              (lst[i+1],lst[i+2]))\n",
    "        i+=2"
   ]
  },
  {
   "cell_type": "code",
   "execution_count": null,
   "metadata": {},
   "outputs": [],
   "source": [
    "pharse = \"WE, THE PEOPLE OF INDIA, having solemnly resolved the constitute India into a SOVEREIGN, SOCIALIST, SECULAR, DEMOCRATIC REPUBLIC and to secure to all its citizen\"\n",
    "lst=[]\n",
    "ss=pharse.split(', ')\n",
    "for s in ss:\n",
    "    lst.append(s)\n",
    "lst\n",
    "i=0\n",
    "for x in lst:\n",
    "    if i+1 <= len(lst):\n",
    "        print(\" \"*(i*3),\"{}\".format(lst[i]))\n",
    "        i+=1"
   ]
  },
  {
   "cell_type": "code",
   "execution_count": 13,
   "metadata": {},
   "outputs": [
    {
     "name": "stdout",
     "output_type": "stream",
     "text": [
      "WE ,\n",
      "    THE PEOPLE OF INDIA ,\n",
      "       having solemnly resolved the constitute India into a SOVEREIGN ,\n",
      "          SOCIALIST ,\n",
      "             SECULAR ,\n",
      "                DEMOCRATIC REPUBLIC and to secure to all its citizen .\n"
     ]
    }
   ],
   "source": [
    "pharse = \"WE, THE PEOPLE OF INDIA, having solemnly resolved the constitute India into a SOVEREIGN, SOCIALIST, SECULAR, DEMOCRATIC REPUBLIC and to secure to all its citizen\"\n",
    "lst=[]\n",
    "ss=pharse.split(', ')\n",
    "for s in ss:\n",
    "    lst.append(s)\n",
    "lst\n",
    "i=0\n",
    "for x in lst:\n",
    "    if i <= len(lst):\n",
    "        if i==0:\n",
    "            print(lst[i].strip(),\",\")\n",
    "        elif i< len(lst)-1: \n",
    "            print(\" \"*(i*3),lst[i].strip(),\",\")\n",
    "        else:\n",
    "            print(\" \"*(i*3),lst[i].strip(),\".\")\n",
    "        i+=1"
   ]
  },
  {
   "cell_type": "code",
   "execution_count": null,
   "metadata": {},
   "outputs": [],
   "source": []
  }
 ],
 "metadata": {
  "kernelspec": {
   "display_name": "Python 3",
   "language": "python",
   "name": "python3"
  },
  "language_info": {
   "codemirror_mode": {
    "name": "ipython",
    "version": 3
   },
   "file_extension": ".py",
   "mimetype": "text/x-python",
   "name": "python",
   "nbconvert_exporter": "python",
   "pygments_lexer": "ipython3",
   "version": "3.7.1"
  }
 },
 "nbformat": 4,
 "nbformat_minor": 2
}
