{
 "cells": [
  {
   "cell_type": "markdown",
   "metadata": {},
   "source": [
    "## Statistics"
   ]
  },
  {
   "cell_type": "markdown",
   "metadata": {},
   "source": [
    "### Task 1:\n",
    "\n",
    "1. You survey households in your area to find the average rent they are paying. Find the standard deviation from the following data: <br>\n",
    "\\\\$1550, \\\\$1700, \\\\$900, \\\\$850, \\\\$1000, \\\\$950. "
   ]
  },
  {
   "cell_type": "code",
   "execution_count": 4,
   "metadata": {},
   "outputs": [
    {
     "name": "stdout",
     "output_type": "stream",
     "text": [
      "Standard Deviation = $ 335.93\n"
     ]
    }
   ],
   "source": [
    "import numpy as np\n",
    "data=np.array([1550, 1700, 900, 850, 1000, 950])\n",
    "data_mean=sum(data)//len(data)\n",
    "\n",
    "# def a user defined fumction to calculte std deviation\n",
    "def stdev(x): \n",
    "    result=np.sqrt(sum((x_i - data_mean)**2 for x_i in x)/len(data)-1)\n",
    "    return(result)\n",
    "\n",
    "print(\"Standard Deviation = $\",round(stdev(data),2))"
   ]
  },
  {
   "cell_type": "markdown",
   "metadata": {},
   "source": [
    "2. ​Find the variance for the following set of data representing trees in California (heights in feet):  \n",
    "3, 21, 98, 203, 17, 9 "
   ]
  },
  {
   "cell_type": "code",
   "execution_count": 3,
   "metadata": {},
   "outputs": [
    {
     "name": "stdout",
     "output_type": "stream",
     "text": [
      "Variance =  5182.5\n"
     ]
    }
   ],
   "source": [
    "import numpy as np\n",
    "data=np.array([3, 21, 98, 203, 17, 9])\n",
    "data_mean=sum(data)//len(data)\n",
    "\n",
    "# def a user defined fumction to calculte variance\n",
    "def variance(x):\n",
    "    result=sum((x_i - data_mean)**2 for x_i in x)/len(data)-1\n",
    "    return(result)\n",
    "\n",
    "print(\"Variance = \", round(variance(data),2))"
   ]
  },
  {
   "cell_type": "markdown",
   "metadata": {},
   "source": [
    "3. ​In a class on 100 students, 80 students passed in all subjects, 10 failed in one subject, 7 failed in two subjects and 3 failed in three subjects. Find the probability distribution of the variable for number of subjects a student from the given class has failed in. "
   ]
  },
  {
   "cell_type": "code",
   "execution_count": 5,
   "metadata": {},
   "outputs": [
    {
     "name": "stdout",
     "output_type": "stream",
     "text": [
      "p[X=0]= 0.8\n",
      "p[X=1]= 0.1\n",
      "p[X=2]= 0.07\n",
      "p[X=3]= 0.03\n"
     ]
    }
   ],
   "source": [
    "import numpy as np\n",
    "X=np.array([0,1,2,3])\n",
    "no_of_times_X=np.array([80,10,7,3])\n",
    "\n",
    "prob_of_X_equalto_0 =no_of_times_X[0]/sum(no_of_times_X)\n",
    "prob_of_X_equalto_1 =no_of_times_X[1]/sum(no_of_times_X)\n",
    "prob_of_X_equalto_2 =no_of_times_X[2]/sum(no_of_times_X)\n",
    "prob_of_X_equalto_3 =no_of_times_X[3]/sum(no_of_times_X)\n",
    "\n",
    "print(\"p[X=0]=\",prob_of_X_equalto_0)\n",
    "print(\"p[X=1]=\",prob_of_X_equalto_1)\n",
    "print(\"p[X=2]=\",prob_of_X_equalto_2)\n",
    "print(\"p[X=3]=\",prob_of_X_equalto_3)"
   ]
  },
  {
   "cell_type": "code",
   "execution_count": null,
   "metadata": {},
   "outputs": [],
   "source": []
  },
  {
   "cell_type": "markdown",
   "metadata": {},
   "source": [
    "### Task 2: \n",
    " \n",
    "1. ​A test is conducted which is consisting of 20 MCQs (multiple choices questions) with every                MCQ having its four options out of which only one is correct. Determine the probability that a                 person undertaking that test has answered exactly 5 questions wrong. "
   ]
  },
  {
   "cell_type": "code",
   "execution_count": 9,
   "metadata": {},
   "outputs": [
    {
     "name": "stdout",
     "output_type": "stream",
     "text": [
      "Probability of 5 wrong out of 20 is 3.4264958230778575e-06\n"
     ]
    }
   ],
   "source": [
    "import scipy.special\n",
    "def prob_1(p,q,n,r):\n",
    "    prob=scipy.special.comb(n,r)*(p**r)*(q**(n-r))\n",
    "    return prob\n",
    "\n",
    "prob_val = prob_1((3/4),(1/4),20,5)\n",
    "print(\"Probability of 5 wrong out of 20 is \", prob_val)"
   ]
  },
  {
   "cell_type": "markdown",
   "metadata": {},
   "source": [
    "2. A die marked A to E is rolled 50 times. Find the probability of getting a “D” exactly 5 times."
   ]
  },
  {
   "cell_type": "code",
   "execution_count": 10,
   "metadata": {},
   "outputs": [
    {
     "name": "stdout",
     "output_type": "stream",
     "text": [
      "Probability of getting D exactly 5 times is  0.03\n"
     ]
    }
   ],
   "source": [
    "import scipy.special # import library\n",
    "def prob_1(p,q,n,r): # user defined function\n",
    "    prob=scipy.special.comb(n,r)*(p**r)*(q**(n-r))\n",
    "    return round(prob,3)\n",
    "\n",
    "prob_val = prob_1(1/5,4/5,50,5)\n",
    "print(\"Probability of getting D exactly 5 times is \",prob_val)"
   ]
  },
  {
   "cell_type": "markdown",
   "metadata": {},
   "source": [
    "3. Two balls are drawn at random in succession without replacement from an urn containing 4 Red balls and 6 Black balls."
   ]
  },
  {
   "cell_type": "code",
   "execution_count": 24,
   "metadata": {},
   "outputs": [
    {
     "name": "stdout",
     "output_type": "stream",
     "text": [
      "Round 1 Probability of (2r,0b) is 0.13\n",
      "Round 2 Probability of (1r,1b) is 0.27\n",
      "Round 3 Probability of (0r,2b) is 0.33\n"
     ]
    }
   ],
   "source": [
    "# Red - 4 Balls ,   Black - 6 Balls  ==> Total 10 Balls\n",
    "\n",
    "# Round 1 --> Probability of 2 Red Balls \n",
    "prob_a = round(4/10*3/9,2)\n",
    "\n",
    "# Round 2 --> Probability of 1 Red and 1 Black Ball Or 1 Black and 1 Red Ball\n",
    "prob_b = round(4/10*6/9,2)  # round(6/10*4/9,2)\n",
    "\n",
    "# Round 3 --> Probability of 2 Black Balls\n",
    "prob_c = round(6/10*5/9,2)\n",
    "\n",
    "print(\"Round 1 Probability of (2r,0b) is\", prob_a)\n",
    "print(\"Round 2 Probability of (1r,1b) is\", prob_b) # want to add all possibilities then this result needs to be added twice\n",
    "print(\"Round 3 Probability of (0r,2b) is\", prob_c)"
   ]
  },
  {
   "cell_type": "code",
   "execution_count": null,
   "metadata": {},
   "outputs": [],
   "source": []
  }
 ],
 "metadata": {
  "kernelspec": {
   "display_name": "Python 3",
   "language": "python",
   "name": "python3"
  },
  "language_info": {
   "codemirror_mode": {
    "name": "ipython",
    "version": 3
   },
   "file_extension": ".py",
   "mimetype": "text/x-python",
   "name": "python",
   "nbconvert_exporter": "python",
   "pygments_lexer": "ipython3",
   "version": "3.7.1"
  }
 },
 "nbformat": 4,
 "nbformat_minor": 2
}
